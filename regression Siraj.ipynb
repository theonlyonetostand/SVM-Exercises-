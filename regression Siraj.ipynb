{
 "cells": [
  {
   "cell_type": "code",
   "execution_count": 3,
   "metadata": {},
   "outputs": [],
   "source": [
    "import numpy\n",
    "import pandas as pd"
   ]
  },
  {
   "cell_type": "code",
   "execution_count": 14,
   "metadata": {},
   "outputs": [],
   "source": [
    "def compute_error (b , m , points) :\n",
    "    total_error = 0\n",
    "    for i in len(points):\n",
    "        x = points.iloc[ i , 0]\n",
    "        y = points.iloc[ i , 1]\n",
    "        total_error += (y-m*x-b)**2\n",
    "        return total_error/float(len(points))"
   ]
  },
  {
   "cell_type": "code",
   "execution_count": 18,
   "metadata": {},
   "outputs": [],
   "source": [
    "def gradiant_descent (initial_b , initial_m , num_iterations , points , learning_rate) :\n",
    "    N = float(len(points))\n",
    "    for i in range(num_iterations):\n",
    "        m = 0\n",
    "        b = 0\n",
    "        for i in range(0, len(points)):\n",
    "            x = points.iloc[i , 0]\n",
    "            y = points.iloc[i , 1]\n",
    "            b += -(2/N) * (y - ((initial_m * x) + initial_b))\n",
    "            m += -(2/N) * x * (y - ((initial_m * x) + initial_b))\n",
    "        initial_b -= learning_rate*b\n",
    "        initial_m -= learning_rate*m\n",
    "    return [initial_b , initial_m]"
   ]
  },
  {
   "cell_type": "code",
   "execution_count": 20,
   "metadata": {},
   "outputs": [
    {
     "name": "stdout",
     "output_type": "stream",
     "text": [
      "0.10148121494753724 1.4796491688889395\n"
     ]
    }
   ],
   "source": [
    "data = pd.read_csv('data.csv')\n",
    "learning_rate = 0.0001\n",
    "initial_b = 0 \n",
    "initial_m = 0 \n",
    "num_iterations = 1000\n",
    "[b,m] =gradiant_descent(initial_b , initial_m , num_iterations , data , learning_rate)\n",
    "print(b,m)\n",
    "\n"
   ]
  },
  {
   "cell_type": "code",
   "execution_count": null,
   "metadata": {},
   "outputs": [],
   "source": []
  }
 ],
 "metadata": {
  "kernelspec": {
   "display_name": "Python 3",
   "language": "python",
   "name": "python3"
  },
  "language_info": {
   "codemirror_mode": {
    "name": "ipython",
    "version": 3
   },
   "file_extension": ".py",
   "mimetype": "text/x-python",
   "name": "python",
   "nbconvert_exporter": "python",
   "pygments_lexer": "ipython3",
   "version": "3.6.5"
  }
 },
 "nbformat": 4,
 "nbformat_minor": 2
}
