{
 "cells": [
  {
   "cell_type": "code",
   "execution_count": 3,
   "metadata": {},
   "outputs": [],
   "source": [
    "import pandas as pd\n",
    "import numpy as np\n",
    "import matplotlib.pyplot as plt\n",
    "import sklearn.svm as SVR\n",
    "import quandl as qd\n",
    "plt.switch_backend('newbackend')  "
   ]
  },
  {
   "cell_type": "code",
   "execution_count": 17,
   "metadata": {},
   "outputs": [],
   "source": [
    "qd.ApiConfig.api_key = 'SwjNx-MQ8t-MXSwbJ6Ca'\n",
    "apple_data = qd.get(\"EOD/AAPL\")"
   ]
  },
  {
   "cell_type": "code",
   "execution_count": 21,
   "metadata": {},
   "outputs": [
    {
     "data": {
      "text/plain": [
       "Date\n",
       "1980-12-12     28.7500\n",
       "1980-12-15     27.3800\n",
       "1980-12-16     25.3700\n",
       "1980-12-17     25.8700\n",
       "1980-12-18     26.6300\n",
       "1980-12-19     28.2500\n",
       "1980-12-22     29.6300\n",
       "1980-12-23     30.8800\n",
       "1980-12-24     32.5000\n",
       "1980-12-26     35.5000\n",
       "1980-12-29     36.0000\n",
       "1980-12-30     35.2500\n",
       "1980-12-31     34.2500\n",
       "1981-01-02     34.5000\n",
       "1981-01-05     33.8700\n",
       "1981-01-06     32.3700\n",
       "1981-01-07     31.0000\n",
       "1981-01-08     30.3700\n",
       "1981-01-09     31.8800\n",
       "1981-01-12     31.8800\n",
       "1981-01-13     30.6300\n",
       "1981-01-14     30.6300\n",
       "1981-01-15     31.2500\n",
       "1981-01-16     31.1200\n",
       "1981-01-19     32.8700\n",
       "1981-01-20     32.0000\n",
       "1981-01-21     32.5000\n",
       "1981-01-22     32.8700\n",
       "1981-01-23     32.8700\n",
       "1981-01-26     32.3700\n",
       "                ...   \n",
       "2018-07-23    190.6800\n",
       "2018-07-24    192.4500\n",
       "2018-07-25    193.0602\n",
       "2018-07-26    194.6100\n",
       "2018-07-27    194.9900\n",
       "2018-07-30    191.9000\n",
       "2018-07-31    190.3000\n",
       "2018-08-01    199.1300\n",
       "2018-08-02    200.5800\n",
       "2018-08-03    207.0300\n",
       "2018-08-06    208.0000\n",
       "2018-08-07    209.3200\n",
       "2018-08-08    206.0500\n",
       "2018-08-09    207.2800\n",
       "2018-08-10    207.3600\n",
       "2018-08-13    207.7000\n",
       "2018-08-14    210.1550\n",
       "2018-08-15    209.2200\n",
       "2018-08-16    211.7500\n",
       "2018-08-17    213.4400\n",
       "2018-08-20    218.1000\n",
       "2018-08-21    216.8000\n",
       "2018-08-22    214.1000\n",
       "2018-08-23    214.6500\n",
       "2018-08-24    216.6000\n",
       "2018-08-27    217.1500\n",
       "2018-08-28    219.0100\n",
       "2018-08-29    220.1500\n",
       "2018-08-30    223.2500\n",
       "2018-08-31    226.5100\n",
       "Name: Open, Length: 9512, dtype: float64"
      ]
     },
     "execution_count": 21,
     "metadata": {},
     "output_type": "execute_result"
    }
   ],
   "source": [
    " apple_data.iloc[:,0]"
   ]
  },
  {
   "cell_type": "code",
   "execution_count": 10,
   "metadata": {},
   "outputs": [
    {
     "data": {
      "text/plain": [
       "(9512, 12)"
      ]
     },
     "execution_count": 10,
     "metadata": {},
     "output_type": "execute_result"
    }
   ],
   "source": [
    "def predict_price(dates, prices, x):\n",
    "    dates = np.reshape(dates,(len(dates), 1)) # converting to matrix of n X 1\n",
    "\n",
    "    svr_lin = SVR(kernel= 'linear', C= 1e3)\n",
    "    svr_poly = SVR(kernel= 'poly', C= 1e3, degree= 2)\n",
    "    svr_rbf = SVR(kernel= 'rbf', C= 1e3, gamma= 0.1) \n",
    "    svr_rbf.fit(dates, prices) \n",
    "    svr_lin.fit(dates, prices)\n",
    "    svr_poly.fit(dates, prices)"
   ]
  },
  {
   "cell_type": "code",
   "execution_count": null,
   "metadata": {},
   "outputs": [],
   "source": []
  }
 ],
 "metadata": {
  "kernelspec": {
   "display_name": "Python 3",
   "language": "python",
   "name": "python3"
  },
  "language_info": {
   "codemirror_mode": {
    "name": "ipython",
    "version": 3
   },
   "file_extension": ".py",
   "mimetype": "text/x-python",
   "name": "python",
   "nbconvert_exporter": "python",
   "pygments_lexer": "ipython3",
   "version": "3.6.5"
  }
 },
 "nbformat": 4,
 "nbformat_minor": 2
}
